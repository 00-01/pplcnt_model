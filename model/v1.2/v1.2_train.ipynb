{
 "cells": [
  {
   "cell_type": "code",
   "execution_count": 23,
   "outputs": [
    {
     "name": "stdout",
     "output_type": "stream",
     "text": [
      "TensorFlow version: 2.9.0\n"
     ]
    }
   ],
   "source": [
    "from glob import glob\n",
    "\n",
    "import numpy as np\n",
    "import pandas as pd\n",
    "import tensorflow as tf\n",
    "\n",
    "\n",
    "print(f\"TensorFlow version: {tf.__version__}\")\n"
   ],
   "metadata": {
    "collapsed": false,
    "pycharm": {
     "name": "#%%\n"
    }
   }
  },
  {
   "cell_type": "markdown",
   "source": [
    "## import dataset"
   ],
   "metadata": {
    "collapsed": false,
    "pycharm": {
     "name": "#%% md\n"
    }
   }
  },
  {
   "cell_type": "code",
   "execution_count": 2,
   "outputs": [
    {
     "data": {
      "text/plain": "<bound method NDFrame.head of                                                       ir  \\\n0      /media/z/0/MVPC10/DATA/v1.1/RAW/device_03/2022...   \n1      /media/z/0/MVPC10/DATA/v1.1/RAW/device_03/2022...   \n2      /media/z/0/MVPC10/DATA/v1.1/RAW/device_03/2022...   \n3      /media/z/0/MVPC10/DATA/v1.1/RAW/device_03/2022...   \n4      /media/z/0/MVPC10/DATA/v1.1/RAW/device_03/2022...   \n...                                                  ...   \n28409  /media/z/0/MVPC10/DATA/v1.1/RAW/device_03/2022...   \n28410  /media/z/0/MVPC10/DATA/v1.1/RAW/device_03/2022...   \n28411  /media/z/0/MVPC10/DATA/v1.1/RAW/device_03/2022...   \n28412  /media/z/0/MVPC10/DATA/v1.1/RAW/device_03/2022...   \n28413  /media/z/0/MVPC10/DATA/v1.1/RAW/device_03/2022...   \n\n                                                     rgb  previous  count  \n0      /media/z/0/MVPC10/DATA/v1.1/RAW/device_03/2022...         0      0  \n1      /media/z/0/MVPC10/DATA/v1.1/RAW/device_03/2022...         0     -1  \n2      /media/z/0/MVPC10/DATA/v1.1/RAW/device_03/2022...         0     -1  \n3      /media/z/0/MVPC10/DATA/v1.1/RAW/device_03/2022...         0     -1  \n4      /media/z/0/MVPC10/DATA/v1.1/RAW/device_03/2022...         0      0  \n...                                                  ...       ...    ...  \n28409  /media/z/0/MVPC10/DATA/v1.1/RAW/device_03/2022...         0      0  \n28410  /media/z/0/MVPC10/DATA/v1.1/RAW/device_03/2022...         0      0  \n28411  /media/z/0/MVPC10/DATA/v1.1/RAW/device_03/2022...         0      0  \n28412  /media/z/0/MVPC10/DATA/v1.1/RAW/device_03/2022...         2      3  \n28413  /media/z/0/MVPC10/DATA/v1.1/RAW/device_03/2022...         0      2  \n\n[28414 rows x 4 columns]>"
     },
     "execution_count": 2,
     "metadata": {},
     "output_type": "execute_result"
    }
   ],
   "source": [
    "basepath = f\".\"\n",
    "input_csv = f\"{basepath}/label_537.csv\"\n",
    "\n",
    "df = pd.read_csv(f'{input_csv}')\n",
    "df.head"
   ],
   "metadata": {
    "collapsed": false,
    "pycharm": {
     "name": "#%%\n"
    }
   }
  },
  {
   "cell_type": "code",
   "execution_count": 14,
   "outputs": [
    {
     "name": "stdout",
     "output_type": "stream",
     "text": [
      "/media/z/0/MVPC10/DATA/v1.1/RAW/device_03/20220419/1650315681891.png\n",
      "/media/z/0/MVPC10/DATA/v1.1/RAW/device_03/20220419/1650315681891.jpg\n",
      "0\n",
      "0\n"
     ]
    }
   ],
   "source": [
    "for i in range(4):\n",
    "    print(df.iloc[0,i])"
   ],
   "metadata": {
    "collapsed": false,
    "pycharm": {
     "name": "#%%\n"
    }
   }
  },
  {
   "cell_type": "code",
   "execution_count": 16,
   "outputs": [
    {
     "data": {
      "text/plain": "Index(['ir', 'rgb', 'previous', 'count'], dtype='object')"
     },
     "execution_count": 16,
     "metadata": {},
     "output_type": "execute_result"
    }
   ],
   "source": [
    "df.columns"
   ],
   "metadata": {
    "collapsed": false,
    "pycharm": {
     "name": "#%%\n"
    }
   }
  },
  {
   "cell_type": "code",
   "execution_count": 54,
   "outputs": [
    {
     "name": "stdout",
     "output_type": "stream",
     "text": [
      "27289\n",
      "<bound method NDFrame.head of                      img  cnt\n",
      "0      1650315736806.png    0\n",
      "1      1650315796123.png    0\n",
      "2      1650315856514.png    0\n",
      "3      1650315917006.png    0\n",
      "4      1650315976418.png    0\n",
      "...                  ...  ...\n",
      "27285  1652664376966.png    0\n",
      "27286  1652664436118.png    0\n",
      "27287  1652664496517.png    0\n",
      "27288  1652664556896.png    2\n",
      "27289  1652664616301.png    0\n",
      "\n",
      "[27290 rows x 2 columns]>\n"
     ]
    }
   ],
   "source": [
    "base_dir = \"out\"\n",
    "img_list = glob(f\"{base_dir}/*.png\")\n",
    "df = pd.read_csv(f\"{base_dir}/output(err_dropped).csv\")\n",
    "# df = pd.read_csv(f\"{base_dir}/output.csv\")\n",
    "print(len(img_list))\n",
    "print(df.head)"
   ],
   "metadata": {
    "collapsed": false,
    "pycharm": {
     "name": "#%%\n"
    }
   }
  },
  {
   "cell_type": "code",
   "execution_count": 53,
   "outputs": [
    {
     "data": {
      "text/plain": "<bound method NDFrame.head of                      img  cnt\n3      1650315736806.png    0\n4      1650315796123.png    0\n5      1650315856514.png    0\n6      1650315917006.png    0\n7      1650315976418.png    0\n...                  ...  ...\n28398  1652664376966.png    0\n28399  1652664436118.png    0\n28400  1652664496517.png    0\n28401  1652664556896.png    2\n28402  1652664616301.png    0\n\n[27290 rows x 2 columns]>"
     },
     "execution_count": 53,
     "metadata": {},
     "output_type": "execute_result"
    }
   ],
   "source": [
    "# for i in range(len(df)):\n",
    "#     if f\"out/{df.iloc[i,0]}\" not in img_list:\n",
    "#         df.iloc[i] = np.nan\n",
    "#\n",
    "# df = df.dropna()\n",
    "# df.iloc[:,1] = df.iloc[:,1].astype(int)\n",
    "# df.to_csv(\"output(err_dropped).csv\", index=False)\n",
    "# df.head"
   ],
   "metadata": {
    "collapsed": false,
    "pycharm": {
     "name": "#%%\n"
    }
   }
  },
  {
   "cell_type": "markdown",
   "source": [
    "## pre-process data"
   ],
   "metadata": {
    "collapsed": false,
    "pycharm": {
     "name": "#%% md\n"
    }
   }
  },
  {
   "cell_type": "code",
   "execution_count": null,
   "outputs": [],
   "source": [],
   "metadata": {
    "collapsed": false,
    "pycharm": {
     "name": "#%%\n"
    }
   }
  },
  {
   "cell_type": "code",
   "execution_count": null,
   "outputs": [],
   "source": [],
   "metadata": {
    "collapsed": false,
    "pycharm": {
     "name": "#%%\n"
    }
   }
  },
  {
   "cell_type": "code",
   "execution_count": null,
   "outputs": [],
   "source": [],
   "metadata": {
    "collapsed": false,
    "pycharm": {
     "name": "#%%\n"
    }
   }
  },
  {
   "cell_type": "code",
   "execution_count": 21,
   "outputs": [],
   "source": [],
   "metadata": {
    "collapsed": false,
    "pycharm": {
     "name": "#%%\n"
    }
   }
  },
  {
   "cell_type": "markdown",
   "source": [
    "## train model"
   ],
   "metadata": {
    "collapsed": false,
    "pycharm": {
     "name": "#%% md\n"
    }
   }
  },
  {
   "cell_type": "code",
   "execution_count": 21,
   "outputs": [],
   "source": [],
   "metadata": {
    "collapsed": false,
    "pycharm": {
     "name": "#%%\n"
    }
   }
  },
  {
   "cell_type": "code",
   "execution_count": 21,
   "outputs": [],
   "source": [],
   "metadata": {
    "collapsed": false,
    "pycharm": {
     "name": "#%%\n"
    }
   }
  },
  {
   "cell_type": "code",
   "execution_count": 21,
   "outputs": [],
   "source": [],
   "metadata": {
    "collapsed": false,
    "pycharm": {
     "name": "#%%\n"
    }
   }
  },
  {
   "cell_type": "code",
   "execution_count": 21,
   "outputs": [],
   "source": [],
   "metadata": {
    "collapsed": false,
    "pycharm": {
     "name": "#%%\n"
    }
   }
  },
  {
   "cell_type": "code",
   "execution_count": 21,
   "outputs": [],
   "source": [],
   "metadata": {
    "collapsed": false,
    "pycharm": {
     "name": "#%%\n"
    }
   }
  },
  {
   "cell_type": "code",
   "execution_count": 21,
   "outputs": [],
   "source": [],
   "metadata": {
    "collapsed": false,
    "pycharm": {
     "name": "#%%\n"
    }
   }
  },
  {
   "cell_type": "code",
   "execution_count": 21,
   "outputs": [],
   "source": [],
   "metadata": {
    "collapsed": false,
    "pycharm": {
     "name": "#%%\n"
    }
   }
  },
  {
   "cell_type": "code",
   "execution_count": 21,
   "outputs": [],
   "source": [],
   "metadata": {
    "collapsed": false,
    "pycharm": {
     "name": "#%%\n"
    }
   }
  },
  {
   "cell_type": "code",
   "execution_count": 21,
   "outputs": [],
   "source": [],
   "metadata": {
    "collapsed": false,
    "pycharm": {
     "name": "#%%\n"
    }
   }
  },
  {
   "cell_type": "code",
   "execution_count": 21,
   "outputs": [],
   "source": [],
   "metadata": {
    "collapsed": false,
    "pycharm": {
     "name": "#%%\n"
    }
   }
  },
  {
   "cell_type": "code",
   "execution_count": 21,
   "outputs": [],
   "source": [],
   "metadata": {
    "collapsed": false,
    "pycharm": {
     "name": "#%%\n"
    }
   }
  },
  {
   "cell_type": "code",
   "execution_count": null,
   "outputs": [],
   "source": [],
   "metadata": {
    "collapsed": false,
    "pycharm": {
     "name": "#%%\n"
    }
   }
  },
  {
   "cell_type": "markdown",
   "source": [
    "## evaluate model"
   ],
   "metadata": {
    "collapsed": false,
    "pycharm": {
     "name": "#%% md\n"
    }
   }
  },
  {
   "cell_type": "code",
   "execution_count": 21,
   "outputs": [],
   "source": [],
   "metadata": {
    "collapsed": false,
    "pycharm": {
     "name": "#%%\n"
    }
   }
  },
  {
   "cell_type": "code",
   "execution_count": 21,
   "outputs": [],
   "source": [],
   "metadata": {
    "collapsed": false,
    "pycharm": {
     "name": "#%%\n"
    }
   }
  },
  {
   "cell_type": "code",
   "execution_count": 21,
   "outputs": [],
   "source": [],
   "metadata": {
    "collapsed": false,
    "pycharm": {
     "name": "#%%\n"
    }
   }
  },
  {
   "cell_type": "code",
   "execution_count": 21,
   "outputs": [],
   "source": [],
   "metadata": {
    "collapsed": false,
    "pycharm": {
     "name": "#%%\n"
    }
   }
  },
  {
   "cell_type": "code",
   "execution_count": 21,
   "outputs": [],
   "source": [],
   "metadata": {
    "collapsed": false,
    "pycharm": {
     "name": "#%%\n"
    }
   }
  },
  {
   "cell_type": "code",
   "execution_count": 21,
   "outputs": [],
   "source": [],
   "metadata": {
    "collapsed": false,
    "pycharm": {
     "name": "#%%\n"
    }
   }
  },
  {
   "cell_type": "code",
   "execution_count": 21,
   "outputs": [],
   "source": [],
   "metadata": {
    "collapsed": false,
    "pycharm": {
     "name": "#%%\n"
    }
   }
  },
  {
   "cell_type": "code",
   "execution_count": null,
   "outputs": [],
   "source": [],
   "metadata": {
    "collapsed": false,
    "pycharm": {
     "name": "#%%\n"
    }
   }
  }
 ],
 "metadata": {
  "kernelspec": {
   "display_name": "Python 3",
   "language": "python",
   "name": "python3"
  },
  "language_info": {
   "codemirror_mode": {
    "name": "ipython",
    "version": 2
   },
   "file_extension": ".py",
   "mimetype": "text/x-python",
   "name": "python",
   "nbconvert_exporter": "python",
   "pygments_lexer": "ipython2",
   "version": "2.7.6"
  }
 },
 "nbformat": 4,
 "nbformat_minor": 0
}