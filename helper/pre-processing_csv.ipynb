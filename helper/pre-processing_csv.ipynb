{
 "cells": [
  {
   "cell_type": "code",
   "execution_count": 55,
   "metadata": {
    "collapsed": true,
    "pycharm": {
     "name": "#%%\n"
    }
   },
   "outputs": [],
   "source": [
    "import numpy as np\n",
    "import pandas as pd\n"
   ]
  },
  {
   "cell_type": "code",
   "execution_count": 56,
   "outputs": [
    {
     "data": {
      "text/plain": "                                              image_name  xmin  ymin  xmax  \\\n0      /media/z/0/MVPC10/DATA/device_03/20220425/1650...    33    28    37   \n1      /media/z/0/MVPC10/DATA/device_03/20220425/1650...    29    33    36   \n2      /media/z/0/MVPC10/DATA/device_03/20220425/1650...    29    20    39   \n3      /media/z/0/MVPC10/DATA/device_03/20220425/1650...    28    30    35   \n4      /media/z/0/MVPC10/DATA/device_03/20220425/1650...    28    32    33   \n...                                                  ...   ...   ...   ...   \n32140  /media/z/0/MVPC10/DATA/device_03/20220420/1650...    43    22    45   \n32141  /media/z/0/MVPC10/DATA/device_03/20220420/1650...    46    46    52   \n32142  /media/z/0/MVPC10/DATA/device_03/20220420/1650...    29    31    35   \n32143  /media/z/0/MVPC10/DATA/device_03/20220420/1650...    44    51    52   \n32144  /media/z/0/MVPC10/DATA/device_03/20220420/1650...    35    18    36   \n\n       ymax  class_id  \n0        35         1  \n1        41         1  \n2        41         1  \n3        41         1  \n4        42         1  \n...     ...       ...  \n32140    27         1  \n32141    59         1  \n32142    40         1  \n32143    64         1  \n32144    24         1  \n\n[32145 rows x 6 columns]",
      "text/html": "<div>\n<style scoped>\n    .dataframe tbody tr th:only-of-type {\n        vertical-align: middle;\n    }\n\n    .dataframe tbody tr th {\n        vertical-align: top;\n    }\n\n    .dataframe thead th {\n        text-align: right;\n    }\n</style>\n<table border=\"1\" class=\"dataframe\">\n  <thead>\n    <tr style=\"text-align: right;\">\n      <th></th>\n      <th>image_name</th>\n      <th>xmin</th>\n      <th>ymin</th>\n      <th>xmax</th>\n      <th>ymax</th>\n      <th>class_id</th>\n    </tr>\n  </thead>\n  <tbody>\n    <tr>\n      <th>0</th>\n      <td>/media/z/0/MVPC10/DATA/device_03/20220425/1650...</td>\n      <td>33</td>\n      <td>28</td>\n      <td>37</td>\n      <td>35</td>\n      <td>1</td>\n    </tr>\n    <tr>\n      <th>1</th>\n      <td>/media/z/0/MVPC10/DATA/device_03/20220425/1650...</td>\n      <td>29</td>\n      <td>33</td>\n      <td>36</td>\n      <td>41</td>\n      <td>1</td>\n    </tr>\n    <tr>\n      <th>2</th>\n      <td>/media/z/0/MVPC10/DATA/device_03/20220425/1650...</td>\n      <td>29</td>\n      <td>20</td>\n      <td>39</td>\n      <td>41</td>\n      <td>1</td>\n    </tr>\n    <tr>\n      <th>3</th>\n      <td>/media/z/0/MVPC10/DATA/device_03/20220425/1650...</td>\n      <td>28</td>\n      <td>30</td>\n      <td>35</td>\n      <td>41</td>\n      <td>1</td>\n    </tr>\n    <tr>\n      <th>4</th>\n      <td>/media/z/0/MVPC10/DATA/device_03/20220425/1650...</td>\n      <td>28</td>\n      <td>32</td>\n      <td>33</td>\n      <td>42</td>\n      <td>1</td>\n    </tr>\n    <tr>\n      <th>...</th>\n      <td>...</td>\n      <td>...</td>\n      <td>...</td>\n      <td>...</td>\n      <td>...</td>\n      <td>...</td>\n    </tr>\n    <tr>\n      <th>32140</th>\n      <td>/media/z/0/MVPC10/DATA/device_03/20220420/1650...</td>\n      <td>43</td>\n      <td>22</td>\n      <td>45</td>\n      <td>27</td>\n      <td>1</td>\n    </tr>\n    <tr>\n      <th>32141</th>\n      <td>/media/z/0/MVPC10/DATA/device_03/20220420/1650...</td>\n      <td>46</td>\n      <td>46</td>\n      <td>52</td>\n      <td>59</td>\n      <td>1</td>\n    </tr>\n    <tr>\n      <th>32142</th>\n      <td>/media/z/0/MVPC10/DATA/device_03/20220420/1650...</td>\n      <td>29</td>\n      <td>31</td>\n      <td>35</td>\n      <td>40</td>\n      <td>1</td>\n    </tr>\n    <tr>\n      <th>32143</th>\n      <td>/media/z/0/MVPC10/DATA/device_03/20220420/1650...</td>\n      <td>44</td>\n      <td>51</td>\n      <td>52</td>\n      <td>64</td>\n      <td>1</td>\n    </tr>\n    <tr>\n      <th>32144</th>\n      <td>/media/z/0/MVPC10/DATA/device_03/20220420/1650...</td>\n      <td>35</td>\n      <td>18</td>\n      <td>36</td>\n      <td>24</td>\n      <td>1</td>\n    </tr>\n  </tbody>\n</table>\n<p>32145 rows × 6 columns</p>\n</div>"
     },
     "execution_count": 56,
     "metadata": {},
     "output_type": "execute_result"
    }
   ],
   "source": [
    "\n",
    "# data = {'country': ['Italy', 'Spain', 'Greece', 'France', 'Portugal'], 'popu': [61, 46, 11, 65, 10], 'percent': [0.83, 0.63, 0.15, 0.88, 0.14]}\n",
    "# df = pd.DataFrame(data, index=['ITA', 'ESP', 'GRC', 'FRA', 'PRT'])\n",
    "\n",
    "data = \"/media/z/0/MVPC10/DATA/device_03/output1.csv\"\n",
    "df = pd.read_csv(data)\n",
    "df"
   ],
   "metadata": {
    "collapsed": false,
    "pycharm": {
     "name": "#%%\n"
    }
   }
  },
  {
   "cell_type": "markdown",
   "source": [
    "## change_column_order"
   ],
   "metadata": {
    "collapsed": false,
    "pycharm": {
     "name": "#%% md\n"
    }
   }
  },
  {
   "cell_type": "code",
   "execution_count": 57,
   "outputs": [
    {
     "data": {
      "text/plain": "['image_name', 'xmin', 'ymin', 'xmax', 'ymax', 'class_id']"
     },
     "execution_count": 57,
     "metadata": {},
     "output_type": "execute_result"
    }
   ],
   "source": [
    "cols = df.columns.tolist()\n",
    "cols"
   ],
   "metadata": {
    "collapsed": false,
    "pycharm": {
     "name": "#%%\n"
    }
   }
  },
  {
   "cell_type": "code",
   "execution_count": 58,
   "outputs": [
    {
     "data": {
      "text/plain": "                                              image_name  xmin  xmax  ymin  \\\n0      /media/z/0/MVPC10/DATA/device_03/20220425/1650...    33    37    28   \n1      /media/z/0/MVPC10/DATA/device_03/20220425/1650...    29    36    33   \n2      /media/z/0/MVPC10/DATA/device_03/20220425/1650...    29    39    20   \n3      /media/z/0/MVPC10/DATA/device_03/20220425/1650...    28    35    30   \n4      /media/z/0/MVPC10/DATA/device_03/20220425/1650...    28    33    32   \n...                                                  ...   ...   ...   ...   \n32140  /media/z/0/MVPC10/DATA/device_03/20220420/1650...    43    45    22   \n32141  /media/z/0/MVPC10/DATA/device_03/20220420/1650...    46    52    46   \n32142  /media/z/0/MVPC10/DATA/device_03/20220420/1650...    29    35    31   \n32143  /media/z/0/MVPC10/DATA/device_03/20220420/1650...    44    52    51   \n32144  /media/z/0/MVPC10/DATA/device_03/20220420/1650...    35    36    18   \n\n       ymax  class_id  \n0        35         1  \n1        41         1  \n2        41         1  \n3        41         1  \n4        42         1  \n...     ...       ...  \n32140    27         1  \n32141    59         1  \n32142    40         1  \n32143    64         1  \n32144    24         1  \n\n[32145 rows x 6 columns]",
      "text/html": "<div>\n<style scoped>\n    .dataframe tbody tr th:only-of-type {\n        vertical-align: middle;\n    }\n\n    .dataframe tbody tr th {\n        vertical-align: top;\n    }\n\n    .dataframe thead th {\n        text-align: right;\n    }\n</style>\n<table border=\"1\" class=\"dataframe\">\n  <thead>\n    <tr style=\"text-align: right;\">\n      <th></th>\n      <th>image_name</th>\n      <th>xmin</th>\n      <th>xmax</th>\n      <th>ymin</th>\n      <th>ymax</th>\n      <th>class_id</th>\n    </tr>\n  </thead>\n  <tbody>\n    <tr>\n      <th>0</th>\n      <td>/media/z/0/MVPC10/DATA/device_03/20220425/1650...</td>\n      <td>33</td>\n      <td>37</td>\n      <td>28</td>\n      <td>35</td>\n      <td>1</td>\n    </tr>\n    <tr>\n      <th>1</th>\n      <td>/media/z/0/MVPC10/DATA/device_03/20220425/1650...</td>\n      <td>29</td>\n      <td>36</td>\n      <td>33</td>\n      <td>41</td>\n      <td>1</td>\n    </tr>\n    <tr>\n      <th>2</th>\n      <td>/media/z/0/MVPC10/DATA/device_03/20220425/1650...</td>\n      <td>29</td>\n      <td>39</td>\n      <td>20</td>\n      <td>41</td>\n      <td>1</td>\n    </tr>\n    <tr>\n      <th>3</th>\n      <td>/media/z/0/MVPC10/DATA/device_03/20220425/1650...</td>\n      <td>28</td>\n      <td>35</td>\n      <td>30</td>\n      <td>41</td>\n      <td>1</td>\n    </tr>\n    <tr>\n      <th>4</th>\n      <td>/media/z/0/MVPC10/DATA/device_03/20220425/1650...</td>\n      <td>28</td>\n      <td>33</td>\n      <td>32</td>\n      <td>42</td>\n      <td>1</td>\n    </tr>\n    <tr>\n      <th>...</th>\n      <td>...</td>\n      <td>...</td>\n      <td>...</td>\n      <td>...</td>\n      <td>...</td>\n      <td>...</td>\n    </tr>\n    <tr>\n      <th>32140</th>\n      <td>/media/z/0/MVPC10/DATA/device_03/20220420/1650...</td>\n      <td>43</td>\n      <td>45</td>\n      <td>22</td>\n      <td>27</td>\n      <td>1</td>\n    </tr>\n    <tr>\n      <th>32141</th>\n      <td>/media/z/0/MVPC10/DATA/device_03/20220420/1650...</td>\n      <td>46</td>\n      <td>52</td>\n      <td>46</td>\n      <td>59</td>\n      <td>1</td>\n    </tr>\n    <tr>\n      <th>32142</th>\n      <td>/media/z/0/MVPC10/DATA/device_03/20220420/1650...</td>\n      <td>29</td>\n      <td>35</td>\n      <td>31</td>\n      <td>40</td>\n      <td>1</td>\n    </tr>\n    <tr>\n      <th>32143</th>\n      <td>/media/z/0/MVPC10/DATA/device_03/20220420/1650...</td>\n      <td>44</td>\n      <td>52</td>\n      <td>51</td>\n      <td>64</td>\n      <td>1</td>\n    </tr>\n    <tr>\n      <th>32144</th>\n      <td>/media/z/0/MVPC10/DATA/device_03/20220420/1650...</td>\n      <td>35</td>\n      <td>36</td>\n      <td>18</td>\n      <td>24</td>\n      <td>1</td>\n    </tr>\n  </tbody>\n</table>\n<p>32145 rows × 6 columns</p>\n</div>"
     },
     "execution_count": 58,
     "metadata": {},
     "output_type": "execute_result"
    }
   ],
   "source": [
    "df = df.reindex(columns=['image_name', 'xmin', 'xmax', 'ymin', 'ymax', 'class_id'])\n",
    "df"
   ],
   "metadata": {
    "collapsed": false,
    "pycharm": {
     "name": "#%%\n"
    }
   }
  },
  {
   "cell_type": "markdown",
   "source": [
    "## delete wrong values"
   ],
   "metadata": {
    "collapsed": false,
    "pycharm": {
     "name": "#%% md\n"
    }
   }
  },
  {
   "cell_type": "code",
   "execution_count": 61,
   "outputs": [
    {
     "data": {
      "text/plain": "                                              image_name  xmin  xmax  ymin  \\\n530    /media/z/0/MVPC10/DATA/device_03/20220425/1650...    57    63    42   \n847    /media/z/0/MVPC10/DATA/device_03/20220425/1650...    50    58    40   \n851    /media/z/0/MVPC10/DATA/device_03/20220425/1650...    58    63    40   \n2297   /media/z/0/MVPC10/DATA/device_03/20220427/1651...    50    53    41   \n3524   /media/z/0/MVPC10/DATA/device_03/20220506/1651...    57    64    39   \n3526   /media/z/0/MVPC10/DATA/device_03/20220506/1651...    53    59    40   \n3995   /media/z/0/MVPC10/DATA/device_03/20220506/1651...    53    59    39   \n4130   /media/z/0/MVPC10/DATA/device_03/20220506/1651...    57    60    42   \n4313   /media/z/0/MVPC10/DATA/device_03/20220506/1651...    54    59    43   \n5392   /media/z/0/MVPC10/DATA/device_03/20220421/1650...    50    54    42   \n5656   /media/z/0/MVPC10/DATA/device_03/20220421/1650...    50    54    42   \n7980   /media/z/0/MVPC10/DATA/device_03/20220508/1651...    53    56    28   \n8679   /media/z/0/MVPC10/DATA/device_03/20220419/1650...    53    60    39   \n8704   /media/z/0/MVPC10/DATA/device_03/20220419/1650...    50    53    37   \n9574   /media/z/0/MVPC10/DATA/device_03/20220512/1652...    50    55    40   \n9999   /media/z/0/MVPC10/DATA/device_03/20220512/1652...    51    56    41   \n10407  /media/z/0/MVPC10/DATA/device_03/20220512/1652...    51    57    42   \n10652  /media/z/0/MVPC10/DATA/device_03/20220512/1652...    51    57    41   \n11862  /media/z/0/MVPC10/DATA/device_03/20220502/1651...    59    63    40   \n16776  /media/z/0/MVPC10/DATA/device_03/20220504/1651...    50    54    38   \n16940  /media/z/0/MVPC10/DATA/device_03/20220504/1651...    50    54    43   \n20835  /media/z/0/MVPC10/DATA/device_03/20220426/1650...    58    63    38   \n20837  /media/z/0/MVPC10/DATA/device_03/20220426/1650...    53    59    37   \n20838  /media/z/0/MVPC10/DATA/device_03/20220426/1650...    54    62    38   \n21239  /media/z/0/MVPC10/DATA/device_03/20220503/1651...    52    56    39   \n21612  /media/z/0/MVPC10/DATA/device_03/20220503/1651...    53    56    29   \n23703  /media/z/0/MVPC10/DATA/device_03/20220516/1652...    57    62    39   \n23855  /media/z/0/MVPC10/DATA/device_03/20220516/1652...    60    64    41   \n24054  /media/z/0/MVPC10/DATA/device_03/20220514/1652...    50    56    40   \n25111  /media/z/0/MVPC10/DATA/device_03/20220429/1651...    56    62    39   \n25193  /media/z/0/MVPC10/DATA/device_03/20220429/1651...    50    55    35   \n25194  /media/z/0/MVPC10/DATA/device_03/20220429/1651...    51    54    35   \n25547  /media/z/0/MVPC10/DATA/device_03/20220429/1651...    50    56    36   \n25549  /media/z/0/MVPC10/DATA/device_03/20220429/1651...    50    54    36   \n29543  /media/z/0/MVPC10/DATA/device_03/20220424/1650...    50    55    38   \n29629  /media/z/0/MVPC10/DATA/device_03/20220424/1650...    50    55    38   \n29680  /media/z/0/MVPC10/DATA/device_03/20220424/1650...    57    61    38   \n30419  /media/z/0/MVPC10/DATA/device_03/20220428/1651...    56    62    43   \n30568  /media/z/0/MVPC10/DATA/device_03/20220428/1651...    57    62    44   \n31854  /media/z/0/MVPC10/DATA/device_03/20220420/1650...    53    57    34   \n32067  /media/z/0/MVPC10/DATA/device_03/20220420/1650...    50    57    39   \n\n       ymax  class_id  \n530      49         1  \n847      50         1  \n851      46         1  \n2297     48         1  \n3524     50         1  \n3526     50         1  \n3995     49         1  \n4130     46         1  \n4313     49         1  \n5392     45         1  \n5656     45         1  \n7980     37         1  \n8679     50         1  \n8704     47         1  \n9574     46         1  \n9999     49         1  \n10407    49         1  \n10652    50         1  \n11862    44         1  \n16776    44         1  \n16940    48         1  \n20835    50         1  \n20837    46         1  \n20838    49         1  \n21239    43         1  \n21612    38         1  \n23703    48         1  \n23855    48         1  \n24054    49         1  \n25111    47         1  \n25193    43         1  \n25194    40         1  \n25547    47         1  \n25549    43         1  \n29543    48         1  \n29629    48         1  \n29680    47         1  \n30419    50         1  \n30568    50         1  \n31854    43         1  \n32067    48         1  ",
      "text/html": "<div>\n<style scoped>\n    .dataframe tbody tr th:only-of-type {\n        vertical-align: middle;\n    }\n\n    .dataframe tbody tr th {\n        vertical-align: top;\n    }\n\n    .dataframe thead th {\n        text-align: right;\n    }\n</style>\n<table border=\"1\" class=\"dataframe\">\n  <thead>\n    <tr style=\"text-align: right;\">\n      <th></th>\n      <th>image_name</th>\n      <th>xmin</th>\n      <th>xmax</th>\n      <th>ymin</th>\n      <th>ymax</th>\n      <th>class_id</th>\n    </tr>\n  </thead>\n  <tbody>\n    <tr>\n      <th>530</th>\n      <td>/media/z/0/MVPC10/DATA/device_03/20220425/1650...</td>\n      <td>57</td>\n      <td>63</td>\n      <td>42</td>\n      <td>49</td>\n      <td>1</td>\n    </tr>\n    <tr>\n      <th>847</th>\n      <td>/media/z/0/MVPC10/DATA/device_03/20220425/1650...</td>\n      <td>50</td>\n      <td>58</td>\n      <td>40</td>\n      <td>50</td>\n      <td>1</td>\n    </tr>\n    <tr>\n      <th>851</th>\n      <td>/media/z/0/MVPC10/DATA/device_03/20220425/1650...</td>\n      <td>58</td>\n      <td>63</td>\n      <td>40</td>\n      <td>46</td>\n      <td>1</td>\n    </tr>\n    <tr>\n      <th>2297</th>\n      <td>/media/z/0/MVPC10/DATA/device_03/20220427/1651...</td>\n      <td>50</td>\n      <td>53</td>\n      <td>41</td>\n      <td>48</td>\n      <td>1</td>\n    </tr>\n    <tr>\n      <th>3524</th>\n      <td>/media/z/0/MVPC10/DATA/device_03/20220506/1651...</td>\n      <td>57</td>\n      <td>64</td>\n      <td>39</td>\n      <td>50</td>\n      <td>1</td>\n    </tr>\n    <tr>\n      <th>3526</th>\n      <td>/media/z/0/MVPC10/DATA/device_03/20220506/1651...</td>\n      <td>53</td>\n      <td>59</td>\n      <td>40</td>\n      <td>50</td>\n      <td>1</td>\n    </tr>\n    <tr>\n      <th>3995</th>\n      <td>/media/z/0/MVPC10/DATA/device_03/20220506/1651...</td>\n      <td>53</td>\n      <td>59</td>\n      <td>39</td>\n      <td>49</td>\n      <td>1</td>\n    </tr>\n    <tr>\n      <th>4130</th>\n      <td>/media/z/0/MVPC10/DATA/device_03/20220506/1651...</td>\n      <td>57</td>\n      <td>60</td>\n      <td>42</td>\n      <td>46</td>\n      <td>1</td>\n    </tr>\n    <tr>\n      <th>4313</th>\n      <td>/media/z/0/MVPC10/DATA/device_03/20220506/1651...</td>\n      <td>54</td>\n      <td>59</td>\n      <td>43</td>\n      <td>49</td>\n      <td>1</td>\n    </tr>\n    <tr>\n      <th>5392</th>\n      <td>/media/z/0/MVPC10/DATA/device_03/20220421/1650...</td>\n      <td>50</td>\n      <td>54</td>\n      <td>42</td>\n      <td>45</td>\n      <td>1</td>\n    </tr>\n    <tr>\n      <th>5656</th>\n      <td>/media/z/0/MVPC10/DATA/device_03/20220421/1650...</td>\n      <td>50</td>\n      <td>54</td>\n      <td>42</td>\n      <td>45</td>\n      <td>1</td>\n    </tr>\n    <tr>\n      <th>7980</th>\n      <td>/media/z/0/MVPC10/DATA/device_03/20220508/1651...</td>\n      <td>53</td>\n      <td>56</td>\n      <td>28</td>\n      <td>37</td>\n      <td>1</td>\n    </tr>\n    <tr>\n      <th>8679</th>\n      <td>/media/z/0/MVPC10/DATA/device_03/20220419/1650...</td>\n      <td>53</td>\n      <td>60</td>\n      <td>39</td>\n      <td>50</td>\n      <td>1</td>\n    </tr>\n    <tr>\n      <th>8704</th>\n      <td>/media/z/0/MVPC10/DATA/device_03/20220419/1650...</td>\n      <td>50</td>\n      <td>53</td>\n      <td>37</td>\n      <td>47</td>\n      <td>1</td>\n    </tr>\n    <tr>\n      <th>9574</th>\n      <td>/media/z/0/MVPC10/DATA/device_03/20220512/1652...</td>\n      <td>50</td>\n      <td>55</td>\n      <td>40</td>\n      <td>46</td>\n      <td>1</td>\n    </tr>\n    <tr>\n      <th>9999</th>\n      <td>/media/z/0/MVPC10/DATA/device_03/20220512/1652...</td>\n      <td>51</td>\n      <td>56</td>\n      <td>41</td>\n      <td>49</td>\n      <td>1</td>\n    </tr>\n    <tr>\n      <th>10407</th>\n      <td>/media/z/0/MVPC10/DATA/device_03/20220512/1652...</td>\n      <td>51</td>\n      <td>57</td>\n      <td>42</td>\n      <td>49</td>\n      <td>1</td>\n    </tr>\n    <tr>\n      <th>10652</th>\n      <td>/media/z/0/MVPC10/DATA/device_03/20220512/1652...</td>\n      <td>51</td>\n      <td>57</td>\n      <td>41</td>\n      <td>50</td>\n      <td>1</td>\n    </tr>\n    <tr>\n      <th>11862</th>\n      <td>/media/z/0/MVPC10/DATA/device_03/20220502/1651...</td>\n      <td>59</td>\n      <td>63</td>\n      <td>40</td>\n      <td>44</td>\n      <td>1</td>\n    </tr>\n    <tr>\n      <th>16776</th>\n      <td>/media/z/0/MVPC10/DATA/device_03/20220504/1651...</td>\n      <td>50</td>\n      <td>54</td>\n      <td>38</td>\n      <td>44</td>\n      <td>1</td>\n    </tr>\n    <tr>\n      <th>16940</th>\n      <td>/media/z/0/MVPC10/DATA/device_03/20220504/1651...</td>\n      <td>50</td>\n      <td>54</td>\n      <td>43</td>\n      <td>48</td>\n      <td>1</td>\n    </tr>\n    <tr>\n      <th>20835</th>\n      <td>/media/z/0/MVPC10/DATA/device_03/20220426/1650...</td>\n      <td>58</td>\n      <td>63</td>\n      <td>38</td>\n      <td>50</td>\n      <td>1</td>\n    </tr>\n    <tr>\n      <th>20837</th>\n      <td>/media/z/0/MVPC10/DATA/device_03/20220426/1650...</td>\n      <td>53</td>\n      <td>59</td>\n      <td>37</td>\n      <td>46</td>\n      <td>1</td>\n    </tr>\n    <tr>\n      <th>20838</th>\n      <td>/media/z/0/MVPC10/DATA/device_03/20220426/1650...</td>\n      <td>54</td>\n      <td>62</td>\n      <td>38</td>\n      <td>49</td>\n      <td>1</td>\n    </tr>\n    <tr>\n      <th>21239</th>\n      <td>/media/z/0/MVPC10/DATA/device_03/20220503/1651...</td>\n      <td>52</td>\n      <td>56</td>\n      <td>39</td>\n      <td>43</td>\n      <td>1</td>\n    </tr>\n    <tr>\n      <th>21612</th>\n      <td>/media/z/0/MVPC10/DATA/device_03/20220503/1651...</td>\n      <td>53</td>\n      <td>56</td>\n      <td>29</td>\n      <td>38</td>\n      <td>1</td>\n    </tr>\n    <tr>\n      <th>23703</th>\n      <td>/media/z/0/MVPC10/DATA/device_03/20220516/1652...</td>\n      <td>57</td>\n      <td>62</td>\n      <td>39</td>\n      <td>48</td>\n      <td>1</td>\n    </tr>\n    <tr>\n      <th>23855</th>\n      <td>/media/z/0/MVPC10/DATA/device_03/20220516/1652...</td>\n      <td>60</td>\n      <td>64</td>\n      <td>41</td>\n      <td>48</td>\n      <td>1</td>\n    </tr>\n    <tr>\n      <th>24054</th>\n      <td>/media/z/0/MVPC10/DATA/device_03/20220514/1652...</td>\n      <td>50</td>\n      <td>56</td>\n      <td>40</td>\n      <td>49</td>\n      <td>1</td>\n    </tr>\n    <tr>\n      <th>25111</th>\n      <td>/media/z/0/MVPC10/DATA/device_03/20220429/1651...</td>\n      <td>56</td>\n      <td>62</td>\n      <td>39</td>\n      <td>47</td>\n      <td>1</td>\n    </tr>\n    <tr>\n      <th>25193</th>\n      <td>/media/z/0/MVPC10/DATA/device_03/20220429/1651...</td>\n      <td>50</td>\n      <td>55</td>\n      <td>35</td>\n      <td>43</td>\n      <td>1</td>\n    </tr>\n    <tr>\n      <th>25194</th>\n      <td>/media/z/0/MVPC10/DATA/device_03/20220429/1651...</td>\n      <td>51</td>\n      <td>54</td>\n      <td>35</td>\n      <td>40</td>\n      <td>1</td>\n    </tr>\n    <tr>\n      <th>25547</th>\n      <td>/media/z/0/MVPC10/DATA/device_03/20220429/1651...</td>\n      <td>50</td>\n      <td>56</td>\n      <td>36</td>\n      <td>47</td>\n      <td>1</td>\n    </tr>\n    <tr>\n      <th>25549</th>\n      <td>/media/z/0/MVPC10/DATA/device_03/20220429/1651...</td>\n      <td>50</td>\n      <td>54</td>\n      <td>36</td>\n      <td>43</td>\n      <td>1</td>\n    </tr>\n    <tr>\n      <th>29543</th>\n      <td>/media/z/0/MVPC10/DATA/device_03/20220424/1650...</td>\n      <td>50</td>\n      <td>55</td>\n      <td>38</td>\n      <td>48</td>\n      <td>1</td>\n    </tr>\n    <tr>\n      <th>29629</th>\n      <td>/media/z/0/MVPC10/DATA/device_03/20220424/1650...</td>\n      <td>50</td>\n      <td>55</td>\n      <td>38</td>\n      <td>48</td>\n      <td>1</td>\n    </tr>\n    <tr>\n      <th>29680</th>\n      <td>/media/z/0/MVPC10/DATA/device_03/20220424/1650...</td>\n      <td>57</td>\n      <td>61</td>\n      <td>38</td>\n      <td>47</td>\n      <td>1</td>\n    </tr>\n    <tr>\n      <th>30419</th>\n      <td>/media/z/0/MVPC10/DATA/device_03/20220428/1651...</td>\n      <td>56</td>\n      <td>62</td>\n      <td>43</td>\n      <td>50</td>\n      <td>1</td>\n    </tr>\n    <tr>\n      <th>30568</th>\n      <td>/media/z/0/MVPC10/DATA/device_03/20220428/1651...</td>\n      <td>57</td>\n      <td>62</td>\n      <td>44</td>\n      <td>50</td>\n      <td>1</td>\n    </tr>\n    <tr>\n      <th>31854</th>\n      <td>/media/z/0/MVPC10/DATA/device_03/20220420/1650...</td>\n      <td>53</td>\n      <td>57</td>\n      <td>34</td>\n      <td>43</td>\n      <td>1</td>\n    </tr>\n    <tr>\n      <th>32067</th>\n      <td>/media/z/0/MVPC10/DATA/device_03/20220420/1650...</td>\n      <td>50</td>\n      <td>57</td>\n      <td>39</td>\n      <td>48</td>\n      <td>1</td>\n    </tr>\n  </tbody>\n</table>\n</div>"
     },
     "execution_count": 61,
     "metadata": {},
     "output_type": "execute_result"
    }
   ],
   "source": [
    "x_min, x_max, y_min, y_max,  = 50, 70, 10, 50\n",
    "xr = x_max-x_min\n",
    "yr = y_max-y_min\n",
    "\n",
    "## option0\n",
    "a = df.loc[(x_min <= df['xmin']) & (df['xmin'] <= x_max)]\n",
    "b =  a.loc[(x_min <= df['xmax']) & ( a['xmax'] <= x_max)]\n",
    "c =  b.loc[(y_min <= df['ymin']) & ( b['ymin'] <= y_max)]\n",
    "d =  c.loc[(y_min <= df['ymax']) & ( c['ymax'] <= y_max)]\n",
    "d\n",
    "\n",
    "## option1\n",
    "# df['xmin'].between(x_min, x_min+10, inclusive=True)\n",
    "# df['xmax'].between(x_max, x_max-10, inclusive=True)\n",
    "# df['ymin'].between(y_min, y_min+10, inclusive=True)\n",
    "# df['ymax'].between(y_max, y_max-10, inclusive=True)\n",
    "\n",
    "## option2\n",
    "# x0 = (x_min <= df['xmin']) & (df['xmin'] < x_max)\n",
    "# x1 = (x_min <= df['xmax']) & (df['xmax'] < x_max)\n",
    "# y0 = (y_min <= df['ymin']) & (df['ymin'] < y_max)\n",
    "# y1 = (y_min <= df['ymax']) & (df['ymax'] < y_max)\n",
    "\n",
    "# result = pd.concat([x0, x1, y0, y1], axis=1)\n",
    "# result\n"
   ],
   "metadata": {
    "collapsed": false,
    "pycharm": {
     "name": "#%%\n"
    }
   }
  },
  {
   "cell_type": "code",
   "execution_count": null,
   "outputs": [],
   "source": [],
   "metadata": {
    "collapsed": false,
    "pycharm": {
     "name": "#%%\n"
    }
   }
  },
  {
   "cell_type": "markdown",
   "source": [
    "## save"
   ],
   "metadata": {
    "collapsed": false,
    "pycharm": {
     "name": "#%% md\n"
    }
   }
  },
  {
   "cell_type": "code",
   "execution_count": 34,
   "outputs": [],
   "source": [
    "df.to_csv(f\"{data}.csv\", index=False)"
   ],
   "metadata": {
    "collapsed": false,
    "pycharm": {
     "name": "#%%\n"
    }
   }
  },
  {
   "cell_type": "code",
   "execution_count": null,
   "outputs": [],
   "source": [],
   "metadata": {
    "collapsed": false,
    "pycharm": {
     "name": "#%%\n"
    }
   }
  }
 ],
 "metadata": {
  "kernelspec": {
   "display_name": "Python 3",
   "language": "python",
   "name": "python3"
  },
  "language_info": {
   "codemirror_mode": {
    "name": "ipython",
    "version": 2
   },
   "file_extension": ".py",
   "mimetype": "text/x-python",
   "name": "python",
   "nbconvert_exporter": "python",
   "pygments_lexer": "ipython2",
   "version": "2.7.6"
  }
 },
 "nbformat": 4,
 "nbformat_minor": 0
}